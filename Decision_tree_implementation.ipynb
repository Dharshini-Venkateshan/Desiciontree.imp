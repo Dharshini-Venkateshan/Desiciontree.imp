{
  "nbformat": 4,
  "nbformat_minor": 0,
  "metadata": {
    "colab": {
      "provenance": [],
      "authorship_tag": "ABX9TyNOT/T//dDBde2tIeO+uKO3",
      "include_colab_link": true
    },
    "kernelspec": {
      "name": "python3",
      "display_name": "Python 3"
    },
    "language_info": {
      "name": "python"
    }
  },
  "cells": [
    {
      "cell_type": "markdown",
      "metadata": {
        "id": "view-in-github",
        "colab_type": "text"
      },
      "source": [
        "<a href=\"https://colab.research.google.com/github/Dharshini-Venkateshan/Desiciontree.imp/blob/main/Decision_tree_implementation.ipynb\" target=\"_parent\"><img src=\"https://colab.research.google.com/assets/colab-badge.svg\" alt=\"Open In Colab\"/></a>"
      ]
    },
    {
      "cell_type": "markdown",
      "source": [
        "Importing the dependencies\n",
        "\n"
      ],
      "metadata": {
        "id": "kshk3L2K-uwW"
      }
    },
    {
      "cell_type": "code",
      "execution_count": 5,
      "metadata": {
        "id": "D99vUKmK-s-g"
      },
      "outputs": [],
      "source": [
        "import pandas as pd\n",
        "from sklearn.tree import DecisionTreeClassifier\n",
        "from sklearn.model_selection import train_test_split\n",
        "from sklearn import metrics\n"
      ]
    },
    {
      "cell_type": "code",
      "source": [
        "pima = pd.read_csv(\"/content/diabetes.csv\")\n",
        "print(pima.head())"
      ],
      "metadata": {
        "colab": {
          "base_uri": "https://localhost:8080/"
        },
        "id": "ePJDI8LRFdKr",
        "outputId": "588ad0c5-a2dd-4548-d036-96913bc4924b"
      },
      "execution_count": 8,
      "outputs": [
        {
          "output_type": "stream",
          "name": "stdout",
          "text": [
            "   Pregnancies  Glucose  BloodPressure  SkinThickness  Insulin   BMI  \\\n",
            "0            6      148             72             35        0  33.6   \n",
            "1            1       85             66             29        0  26.6   \n",
            "2            8      183             64              0        0  23.3   \n",
            "3            1       89             66             23       94  28.1   \n",
            "4            0      137             40             35      168  43.1   \n",
            "\n",
            "   DiabetesPedigreeFunction  Age  Outcome  \n",
            "0                     0.627   50        1  \n",
            "1                     0.351   31        0  \n",
            "2                     0.672   32        1  \n",
            "3                     0.167   21        0  \n",
            "4                     2.288   33        1  \n"
          ]
        }
      ]
    },
    {
      "cell_type": "markdown",
      "source": [
        "splitting the datas to training and testing datas"
      ],
      "metadata": {
        "id": "VskZ_9yR_ibI"
      }
    },
    {
      "cell_type": "code",
      "source": [
        "feature_cols =['Pregnancies','Glucose','BloodPressure','SkinThickness','Insulin' ,'BMI','DiabetesPedigreeFunction','Age' ,'Outcome' ]\n",
        "x = pima[feature_cols] #features\n",
        "y = pima.Outcome #target variable"
      ],
      "metadata": {
        "id": "XK_3LnIs_EFo"
      },
      "execution_count": 11,
      "outputs": []
    },
    {
      "cell_type": "code",
      "source": [
        "x_train , x_test, y_train, y_test = train_test_split(x,y, test_size=0.3, random_state=1)"
      ],
      "metadata": {
        "id": "ZsDBHyWF_2mY"
      },
      "execution_count": 12,
      "outputs": []
    },
    {
      "cell_type": "markdown",
      "source": [
        "GIVING MAX DEPTH AS 5"
      ],
      "metadata": {
        "id": "IkfwRngiCVOG"
      }
    },
    {
      "cell_type": "code",
      "source": [
        "clf = DecisionTreeClassifier(max_depth = 5)\n",
        "clf1 = clf.fit(x_train,y_train)\n",
        "y_pred = clf.predict(x_test)"
      ],
      "metadata": {
        "id": "IJW8ytdoAfff"
      },
      "execution_count": 13,
      "outputs": []
    },
    {
      "cell_type": "code",
      "source": [
        "print(\"Accuracy:\",metrics.accuracy_score(y_test, y_pred))"
      ],
      "metadata": {
        "colab": {
          "base_uri": "https://localhost:8080/"
        },
        "id": "1xXpDEOGFjRh",
        "outputId": "13783dcb-e67c-4ba1-d675-5ad6189eec3a"
      },
      "execution_count": 14,
      "outputs": [
        {
          "output_type": "stream",
          "name": "stdout",
          "text": [
            "Accuracy: 1.0\n"
          ]
        }
      ]
    },
    {
      "cell_type": "code",
      "source": [
        "from matplotlib import pyplot as plt\n",
        "from sklearn import tree"
      ],
      "metadata": {
        "id": "Rrq9SAu3A564"
      },
      "execution_count": 15,
      "outputs": []
    },
    {
      "cell_type": "code",
      "source": [
        "fig = plt.figure()"
      ],
      "metadata": {
        "colab": {
          "base_uri": "https://localhost:8080/",
          "height": 34
        },
        "id": "h2I6z5cDFmLQ",
        "outputId": "ccc0e233-fd69-45d7-b97a-814dc40132f2"
      },
      "execution_count": 16,
      "outputs": [
        {
          "output_type": "display_data",
          "data": {
            "text/plain": [
              "<Figure size 640x480 with 0 Axes>"
            ]
          },
          "metadata": {}
        }
      ]
    },
    {
      "cell_type": "code",
      "source": [
        "tree.plot_tree(clf1)\n",
        "plt.show\n",
        "fig.savefig(\"decision_tree.png\")"
      ],
      "metadata": {
        "colab": {
          "base_uri": "https://localhost:8080/",
          "height": 406
        },
        "id": "QKTxCRfPFpPt",
        "outputId": "5e883bfd-401a-4553-fff7-afa1999ebf05"
      },
      "execution_count": 17,
      "outputs": [
        {
          "output_type": "display_data",
          "data": {
            "text/plain": [
              "<Figure size 640x480 with 1 Axes>"
            ],
            "image/png": "[encoded data removed]"
          },
          "metadata": {}
        }
      ]
    },
    {
      "cell_type": "markdown",
      "source": [
        "Although we have set the max_depth to 5, the decision tree algorithm only builds the tree as deep as needed to achieve optimal splits based on the data and the features used. In this case, it appears the tree reached perfect accuracy on the training data with only one split, so it did not need to grow to a depth of 5. The plot we see represents the actual structure of the trained tree."
      ],
      "metadata": {
        "id": "StL_4GiKFtEq"
      }
    }
  ]
}